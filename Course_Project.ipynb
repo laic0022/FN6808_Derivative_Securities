{
 "cells": [
  {
   "cell_type": "code",
   "execution_count": 4,
   "metadata": {},
   "outputs": [],
   "source": [
    "import pandas as pd\n",
    "import numpy as np\n",
    "import matplotlib.pyplot as plt\n",
    "import yfinance as yf"
   ]
  },
  {
   "cell_type": "markdown",
   "metadata": {},
   "source": [
    "Question 1: Modeling volatility\n",
    "Find data for historical prices for any publicly traded equity. To ensure the length of data, use daily data for at least 3 years. Fit the historical data to\n",
    "\n",
    "1. Geometric Brownian motion\n",
    "2. Any non-constant volatility model\n",
    "\n",
    "Find market data for option prices for this stock. Use option prices to\n",
    "\n",
    "3. Show volatility smile\n",
    "4. Construct term structure of volatility\n",
    "5. Plot the volatility surface, as a function of time to maturity and moneyness."
   ]
  },
  {
   "cell_type": "code",
   "execution_count": 67,
   "metadata": {},
   "outputs": [
    {
     "data": {
      "text/html": [
       "<div>\n",
       "<style scoped>\n",
       "    .dataframe tbody tr th:only-of-type {\n",
       "        vertical-align: middle;\n",
       "    }\n",
       "\n",
       "    .dataframe tbody tr th {\n",
       "        vertical-align: top;\n",
       "    }\n",
       "\n",
       "    .dataframe thead th {\n",
       "        text-align: right;\n",
       "    }\n",
       "</style>\n",
       "<table border=\"1\" class=\"dataframe\">\n",
       "  <thead>\n",
       "    <tr style=\"text-align: right;\">\n",
       "      <th></th>\n",
       "      <th>Open</th>\n",
       "      <th>High</th>\n",
       "      <th>Low</th>\n",
       "      <th>Close</th>\n",
       "      <th>Volume</th>\n",
       "      <th>Dividends</th>\n",
       "      <th>Stock Splits</th>\n",
       "      <th>Capital Gains</th>\n",
       "    </tr>\n",
       "    <tr>\n",
       "      <th>Date</th>\n",
       "      <th></th>\n",
       "      <th></th>\n",
       "      <th></th>\n",
       "      <th></th>\n",
       "      <th></th>\n",
       "      <th></th>\n",
       "      <th></th>\n",
       "      <th></th>\n",
       "    </tr>\n",
       "  </thead>\n",
       "  <tbody>\n",
       "    <tr>\n",
       "      <th>2023-09-29 00:00:00-04:00</th>\n",
       "      <td>431.670013</td>\n",
       "      <td>431.850006</td>\n",
       "      <td>425.910004</td>\n",
       "      <td>427.480011</td>\n",
       "      <td>115078500</td>\n",
       "      <td>0.0</td>\n",
       "      <td>0.0</td>\n",
       "      <td>0.0</td>\n",
       "    </tr>\n",
       "    <tr>\n",
       "      <th>2023-10-02 00:00:00-04:00</th>\n",
       "      <td>426.619995</td>\n",
       "      <td>428.600006</td>\n",
       "      <td>424.459991</td>\n",
       "      <td>427.309998</td>\n",
       "      <td>83798600</td>\n",
       "      <td>0.0</td>\n",
       "      <td>0.0</td>\n",
       "      <td>0.0</td>\n",
       "    </tr>\n",
       "    <tr>\n",
       "      <th>2023-10-03 00:00:00-04:00</th>\n",
       "      <td>425.059998</td>\n",
       "      <td>427.369995</td>\n",
       "      <td>420.179993</td>\n",
       "      <td>421.589996</td>\n",
       "      <td>103760600</td>\n",
       "      <td>0.0</td>\n",
       "      <td>0.0</td>\n",
       "      <td>0.0</td>\n",
       "    </tr>\n",
       "    <tr>\n",
       "      <th>2023-10-04 00:00:00-04:00</th>\n",
       "      <td>422.070007</td>\n",
       "      <td>425.429993</td>\n",
       "      <td>420.559998</td>\n",
       "      <td>424.660004</td>\n",
       "      <td>87372400</td>\n",
       "      <td>0.0</td>\n",
       "      <td>0.0</td>\n",
       "      <td>0.0</td>\n",
       "    </tr>\n",
       "    <tr>\n",
       "      <th>2023-10-05 00:00:00-04:00</th>\n",
       "      <td>422.070007</td>\n",
       "      <td>425.260010</td>\n",
       "      <td>423.540009</td>\n",
       "      <td>423.890015</td>\n",
       "      <td>5861106</td>\n",
       "      <td>0.0</td>\n",
       "      <td>0.0</td>\n",
       "      <td>0.0</td>\n",
       "    </tr>\n",
       "  </tbody>\n",
       "</table>\n",
       "</div>"
      ],
      "text/plain": [
       "                                 Open        High         Low       Close  \\\n",
       "Date                                                                        \n",
       "2023-09-29 00:00:00-04:00  431.670013  431.850006  425.910004  427.480011   \n",
       "2023-10-02 00:00:00-04:00  426.619995  428.600006  424.459991  427.309998   \n",
       "2023-10-03 00:00:00-04:00  425.059998  427.369995  420.179993  421.589996   \n",
       "2023-10-04 00:00:00-04:00  422.070007  425.429993  420.559998  424.660004   \n",
       "2023-10-05 00:00:00-04:00  422.070007  425.260010  423.540009  423.890015   \n",
       "\n",
       "                              Volume  Dividends  Stock Splits  Capital Gains  \n",
       "Date                                                                          \n",
       "2023-09-29 00:00:00-04:00  115078500        0.0           0.0            0.0  \n",
       "2023-10-02 00:00:00-04:00   83798600        0.0           0.0            0.0  \n",
       "2023-10-03 00:00:00-04:00  103760600        0.0           0.0            0.0  \n",
       "2023-10-04 00:00:00-04:00   87372400        0.0           0.0            0.0  \n",
       "2023-10-05 00:00:00-04:00    5861106        0.0           0.0            0.0  "
      ]
     },
     "execution_count": 67,
     "metadata": {},
     "output_type": "execute_result"
    }
   ],
   "source": [
    "spy = yf.Ticker('SPY')\n",
    "df = spy.history(period=\"5y\")\n",
    "df.tail()"
   ]
  },
  {
   "cell_type": "markdown",
   "metadata": {},
   "source": [
    "1. Geometric Brownian motion"
   ]
  },
  {
   "cell_type": "markdown",
   "metadata": {},
   "source": [
    "$\\frac{lnS(t_i)-lnS(t_{i-1})}{\\sqrt{\\Delta t}}= (\\mu-\\frac{1}{2}\\sigma^2)\\sqrt{\\Delta t}+\\sigma\\frac{B(t_i)-B(t_{i-1})}{\\sqrt{\\Delta t}}$"
   ]
  },
  {
   "cell_type": "code",
   "execution_count": 70,
   "metadata": {},
   "outputs": [],
   "source": [
    "y = np.log(df.Close/df.Close.shift(1))*np.sqrt(252)"
   ]
  },
  {
   "cell_type": "code",
   "execution_count": 71,
   "metadata": {},
   "outputs": [
    {
     "data": {
      "text/plain": [
       "0.21586925458831768"
      ]
     },
     "execution_count": 71,
     "metadata": {},
     "output_type": "execute_result"
    }
   ],
   "source": [
    "#historic volatility\n",
    "hv = y.std()\n",
    "hv"
   ]
  },
  {
   "cell_type": "markdown",
   "metadata": {},
   "source": [
    "$ s^2 = \\frac{1}{N-1} (\\sum_{i=1}^{N}y_i^2-N\\overline{y}^2)  $"
   ]
  },
  {
   "cell_type": "code",
   "execution_count": 73,
   "metadata": {},
   "outputs": [
    {
     "data": {
      "text/plain": [
       "0.2157833055470414"
      ]
     },
     "execution_count": 73,
     "metadata": {},
     "output_type": "execute_result"
    }
   ],
   "source": [
    "np.sqrt(((y**2).sum()-len(y)*y.mean()**2)/(len(y)-1))"
   ]
  },
  {
   "cell_type": "markdown",
   "metadata": {},
   "source": [
    "2. Any non-constant volatility model"
   ]
  },
  {
   "cell_type": "code",
   "execution_count": 74,
   "metadata": {},
   "outputs": [
    {
     "data": {
      "text/plain": [
       "Text(0, 0.5, 'volatility')"
      ]
     },
     "execution_count": 74,
     "metadata": {},
     "output_type": "execute_result"
    },
    {
     "data": {
      "image/png": "[encoded data removed]",
      "text/plain": [
       "<Figure size 1200x400 with 1 Axes>"
      ]
     },
     "metadata": {},
     "output_type": "display_data"
    }
   ],
   "source": [
    "# rolling 20d historic volatility\n",
    "ax = (y.rolling(20).std()).plot(figsize=(12,4),grid=True,title=spy.info['longName']+' rolling 20d historical volatility')\n",
    "ax.set_ylabel('volatility')"
   ]
  },
  {
   "cell_type": "code",
   "execution_count": 93,
   "metadata": {},
   "outputs": [],
   "source": [
    "#EWMA volatility model\n",
    "vol0 = y[:21].std()\n",
    "decay = 0.9\n",
    "ewma_vol = pd.Series(index=y.index)\n",
    "for i in range(22, len(y.index)):\n",
    "    ewma_vol.iloc[i] = (1-decay)*y.iloc[i-1]**2 + decay*vol0**2\n",
    "    vol0 =  ewma_vol.iloc[i]\n",
    "ewma_vol = np.sqrt(ewma_vol)\n"
   ]
  },
  {
   "cell_type": "code",
   "execution_count": 95,
   "metadata": {},
   "outputs": [
    {
     "data": {
      "text/plain": [
       "Text(0, 0.5, 'volatility')"
      ]
     },
     "execution_count": 95,
     "metadata": {},
     "output_type": "execute_result"
    },
    {
     "data": {
      "image/png": "[encoded data removed]",
      "text/plain": [
       "<Figure size 1200x400 with 1 Axes>"
      ]
     },
     "metadata": {},
     "output_type": "display_data"
    }
   ],
   "source": [
    "ax = ewma_vol.plot(figsize=(12,4),grid=True,title=spy.info['longName']+' EWMA historical volatility')\n",
    "ax.set_ylabel('volatility')"
   ]
  },
  {
   "cell_type": "markdown",
   "metadata": {},
   "source": [
    "GARCH Model\n",
    "\n",
    "$y_i=\\frac{lnS(t_i)-lnS(t_{i-1})-(\\mu-\\frac{1}{2}\\sigma_i^2)\\Delta t}{\\sqrt{\\Delta t}} \\quad \\text{follows} \\quad N(0,\\sigma_i^2)$"
   ]
  },
  {
   "cell_type": "markdown",
   "metadata": {},
   "source": [
    "3. Show volatility smile"
   ]
  },
  {
   "cell_type": "code",
   "execution_count": 62,
   "metadata": {},
   "outputs": [],
   "source": [
    "us3m_bond = yf.Ticker('^IRX')"
   ]
  },
  {
   "cell_type": "code",
   "execution_count": 66,
   "metadata": {},
   "outputs": [
    {
     "data": {
      "text/html": [
       "<div>\n",
       "<style scoped>\n",
       "    .dataframe tbody tr th:only-of-type {\n",
       "        vertical-align: middle;\n",
       "    }\n",
       "\n",
       "    .dataframe tbody tr th {\n",
       "        vertical-align: top;\n",
       "    }\n",
       "\n",
       "    .dataframe thead th {\n",
       "        text-align: right;\n",
       "    }\n",
       "</style>\n",
       "<table border=\"1\" class=\"dataframe\">\n",
       "  <thead>\n",
       "    <tr style=\"text-align: right;\">\n",
       "      <th></th>\n",
       "      <th>Open</th>\n",
       "      <th>High</th>\n",
       "      <th>Low</th>\n",
       "      <th>Close</th>\n",
       "      <th>Volume</th>\n",
       "      <th>Dividends</th>\n",
       "      <th>Stock Splits</th>\n",
       "    </tr>\n",
       "    <tr>\n",
       "      <th>Date</th>\n",
       "      <th></th>\n",
       "      <th></th>\n",
       "      <th></th>\n",
       "      <th></th>\n",
       "      <th></th>\n",
       "      <th></th>\n",
       "      <th></th>\n",
       "    </tr>\n",
       "  </thead>\n",
       "  <tbody>\n",
       "    <tr>\n",
       "      <th>2023-09-05 00:00:00-04:00</th>\n",
       "      <td>5.273</td>\n",
       "      <td>5.285</td>\n",
       "      <td>5.248</td>\n",
       "      <td>5.278</td>\n",
       "      <td>0</td>\n",
       "      <td>0.0</td>\n",
       "      <td>0.0</td>\n",
       "    </tr>\n",
       "    <tr>\n",
       "      <th>2023-09-06 00:00:00-04:00</th>\n",
       "      <td>5.308</td>\n",
       "      <td>5.310</td>\n",
       "      <td>5.200</td>\n",
       "      <td>5.300</td>\n",
       "      <td>0</td>\n",
       "      <td>0.0</td>\n",
       "      <td>0.0</td>\n",
       "    </tr>\n",
       "    <tr>\n",
       "      <th>2023-09-07 00:00:00-04:00</th>\n",
       "      <td>5.293</td>\n",
       "      <td>5.293</td>\n",
       "      <td>5.283</td>\n",
       "      <td>5.283</td>\n",
       "      <td>0</td>\n",
       "      <td>0.0</td>\n",
       "      <td>0.0</td>\n",
       "    </tr>\n",
       "    <tr>\n",
       "      <th>2023-09-08 00:00:00-04:00</th>\n",
       "      <td>5.283</td>\n",
       "      <td>5.293</td>\n",
       "      <td>5.275</td>\n",
       "      <td>5.293</td>\n",
       "      <td>0</td>\n",
       "      <td>0.0</td>\n",
       "      <td>0.0</td>\n",
       "    </tr>\n",
       "    <tr>\n",
       "      <th>2023-09-11 00:00:00-04:00</th>\n",
       "      <td>5.288</td>\n",
       "      <td>5.300</td>\n",
       "      <td>5.288</td>\n",
       "      <td>5.293</td>\n",
       "      <td>0</td>\n",
       "      <td>0.0</td>\n",
       "      <td>0.0</td>\n",
       "    </tr>\n",
       "    <tr>\n",
       "      <th>2023-09-12 00:00:00-04:00</th>\n",
       "      <td>5.305</td>\n",
       "      <td>5.308</td>\n",
       "      <td>5.305</td>\n",
       "      <td>5.305</td>\n",
       "      <td>0</td>\n",
       "      <td>0.0</td>\n",
       "      <td>0.0</td>\n",
       "    </tr>\n",
       "    <tr>\n",
       "      <th>2023-09-13 00:00:00-04:00</th>\n",
       "      <td>5.313</td>\n",
       "      <td>5.315</td>\n",
       "      <td>5.268</td>\n",
       "      <td>5.305</td>\n",
       "      <td>0</td>\n",
       "      <td>0.0</td>\n",
       "      <td>0.0</td>\n",
       "    </tr>\n",
       "    <tr>\n",
       "      <th>2023-09-14 00:00:00-04:00</th>\n",
       "      <td>5.298</td>\n",
       "      <td>5.305</td>\n",
       "      <td>5.285</td>\n",
       "      <td>5.295</td>\n",
       "      <td>0</td>\n",
       "      <td>0.0</td>\n",
       "      <td>0.0</td>\n",
       "    </tr>\n",
       "    <tr>\n",
       "      <th>2023-09-15 00:00:00-04:00</th>\n",
       "      <td>5.298</td>\n",
       "      <td>5.303</td>\n",
       "      <td>5.293</td>\n",
       "      <td>5.298</td>\n",
       "      <td>0</td>\n",
       "      <td>0.0</td>\n",
       "      <td>0.0</td>\n",
       "    </tr>\n",
       "    <tr>\n",
       "      <th>2023-09-18 00:00:00-04:00</th>\n",
       "      <td>5.298</td>\n",
       "      <td>5.305</td>\n",
       "      <td>5.298</td>\n",
       "      <td>5.300</td>\n",
       "      <td>0</td>\n",
       "      <td>0.0</td>\n",
       "      <td>0.0</td>\n",
       "    </tr>\n",
       "    <tr>\n",
       "      <th>2023-09-19 00:00:00-04:00</th>\n",
       "      <td>5.305</td>\n",
       "      <td>5.313</td>\n",
       "      <td>5.305</td>\n",
       "      <td>5.310</td>\n",
       "      <td>0</td>\n",
       "      <td>0.0</td>\n",
       "      <td>0.0</td>\n",
       "    </tr>\n",
       "    <tr>\n",
       "      <th>2023-09-20 00:00:00-04:00</th>\n",
       "      <td>5.315</td>\n",
       "      <td>5.320</td>\n",
       "      <td>5.200</td>\n",
       "      <td>5.315</td>\n",
       "      <td>0</td>\n",
       "      <td>0.0</td>\n",
       "      <td>0.0</td>\n",
       "    </tr>\n",
       "    <tr>\n",
       "      <th>2023-09-21 00:00:00-04:00</th>\n",
       "      <td>5.305</td>\n",
       "      <td>5.310</td>\n",
       "      <td>5.295</td>\n",
       "      <td>5.305</td>\n",
       "      <td>0</td>\n",
       "      <td>0.0</td>\n",
       "      <td>0.0</td>\n",
       "    </tr>\n",
       "    <tr>\n",
       "      <th>2023-09-22 00:00:00-04:00</th>\n",
       "      <td>5.305</td>\n",
       "      <td>5.313</td>\n",
       "      <td>5.298</td>\n",
       "      <td>5.305</td>\n",
       "      <td>0</td>\n",
       "      <td>0.0</td>\n",
       "      <td>0.0</td>\n",
       "    </tr>\n",
       "    <tr>\n",
       "      <th>2023-09-25 00:00:00-04:00</th>\n",
       "      <td>5.313</td>\n",
       "      <td>5.315</td>\n",
       "      <td>5.303</td>\n",
       "      <td>5.313</td>\n",
       "      <td>0</td>\n",
       "      <td>0.0</td>\n",
       "      <td>0.0</td>\n",
       "    </tr>\n",
       "    <tr>\n",
       "      <th>2023-09-26 00:00:00-04:00</th>\n",
       "      <td>5.323</td>\n",
       "      <td>5.325</td>\n",
       "      <td>5.313</td>\n",
       "      <td>5.325</td>\n",
       "      <td>0</td>\n",
       "      <td>0.0</td>\n",
       "      <td>0.0</td>\n",
       "    </tr>\n",
       "    <tr>\n",
       "      <th>2023-09-27 00:00:00-04:00</th>\n",
       "      <td>5.325</td>\n",
       "      <td>5.333</td>\n",
       "      <td>5.310</td>\n",
       "      <td>5.330</td>\n",
       "      <td>0</td>\n",
       "      <td>0.0</td>\n",
       "      <td>0.0</td>\n",
       "    </tr>\n",
       "    <tr>\n",
       "      <th>2023-09-28 00:00:00-04:00</th>\n",
       "      <td>5.333</td>\n",
       "      <td>5.333</td>\n",
       "      <td>5.308</td>\n",
       "      <td>5.308</td>\n",
       "      <td>0</td>\n",
       "      <td>0.0</td>\n",
       "      <td>0.0</td>\n",
       "    </tr>\n",
       "    <tr>\n",
       "      <th>2023-09-29 00:00:00-04:00</th>\n",
       "      <td>5.295</td>\n",
       "      <td>5.305</td>\n",
       "      <td>5.288</td>\n",
       "      <td>5.300</td>\n",
       "      <td>0</td>\n",
       "      <td>0.0</td>\n",
       "      <td>0.0</td>\n",
       "    </tr>\n",
       "    <tr>\n",
       "      <th>2023-10-02 00:00:00-04:00</th>\n",
       "      <td>5.310</td>\n",
       "      <td>5.320</td>\n",
       "      <td>5.310</td>\n",
       "      <td>5.315</td>\n",
       "      <td>0</td>\n",
       "      <td>0.0</td>\n",
       "      <td>0.0</td>\n",
       "    </tr>\n",
       "    <tr>\n",
       "      <th>2023-10-03 00:00:00-04:00</th>\n",
       "      <td>5.335</td>\n",
       "      <td>5.340</td>\n",
       "      <td>5.333</td>\n",
       "      <td>5.340</td>\n",
       "      <td>0</td>\n",
       "      <td>0.0</td>\n",
       "      <td>0.0</td>\n",
       "    </tr>\n",
       "    <tr>\n",
       "      <th>2023-10-04 00:00:00-04:00</th>\n",
       "      <td>5.330</td>\n",
       "      <td>5.335</td>\n",
       "      <td>5.200</td>\n",
       "      <td>5.335</td>\n",
       "      <td>0</td>\n",
       "      <td>0.0</td>\n",
       "      <td>0.0</td>\n",
       "    </tr>\n",
       "    <tr>\n",
       "      <th>2023-10-05 00:00:00-04:00</th>\n",
       "      <td>5.328</td>\n",
       "      <td>5.330</td>\n",
       "      <td>5.323</td>\n",
       "      <td>5.330</td>\n",
       "      <td>0</td>\n",
       "      <td>0.0</td>\n",
       "      <td>0.0</td>\n",
       "    </tr>\n",
       "  </tbody>\n",
       "</table>\n",
       "</div>"
      ],
      "text/plain": [
       "                            Open   High    Low  Close  Volume  Dividends  \\\n",
       "Date                                                                       \n",
       "2023-09-05 00:00:00-04:00  5.273  5.285  5.248  5.278       0        0.0   \n",
       "2023-09-06 00:00:00-04:00  5.308  5.310  5.200  5.300       0        0.0   \n",
       "2023-09-07 00:00:00-04:00  5.293  5.293  5.283  5.283       0        0.0   \n",
       "2023-09-08 00:00:00-04:00  5.283  5.293  5.275  5.293       0        0.0   \n",
       "2023-09-11 00:00:00-04:00  5.288  5.300  5.288  5.293       0        0.0   \n",
       "2023-09-12 00:00:00-04:00  5.305  5.308  5.305  5.305       0        0.0   \n",
       "2023-09-13 00:00:00-04:00  5.313  5.315  5.268  5.305       0        0.0   \n",
       "2023-09-14 00:00:00-04:00  5.298  5.305  5.285  5.295       0        0.0   \n",
       "2023-09-15 00:00:00-04:00  5.298  5.303  5.293  5.298       0        0.0   \n",
       "2023-09-18 00:00:00-04:00  5.298  5.305  5.298  5.300       0        0.0   \n",
       "2023-09-19 00:00:00-04:00  5.305  5.313  5.305  5.310       0        0.0   \n",
       "2023-09-20 00:00:00-04:00  5.315  5.320  5.200  5.315       0        0.0   \n",
       "2023-09-21 00:00:00-04:00  5.305  5.310  5.295  5.305       0        0.0   \n",
       "2023-09-22 00:00:00-04:00  5.305  5.313  5.298  5.305       0        0.0   \n",
       "2023-09-25 00:00:00-04:00  5.313  5.315  5.303  5.313       0        0.0   \n",
       "2023-09-26 00:00:00-04:00  5.323  5.325  5.313  5.325       0        0.0   \n",
       "2023-09-27 00:00:00-04:00  5.325  5.333  5.310  5.330       0        0.0   \n",
       "2023-09-28 00:00:00-04:00  5.333  5.333  5.308  5.308       0        0.0   \n",
       "2023-09-29 00:00:00-04:00  5.295  5.305  5.288  5.300       0        0.0   \n",
       "2023-10-02 00:00:00-04:00  5.310  5.320  5.310  5.315       0        0.0   \n",
       "2023-10-03 00:00:00-04:00  5.335  5.340  5.333  5.340       0        0.0   \n",
       "2023-10-04 00:00:00-04:00  5.330  5.335  5.200  5.335       0        0.0   \n",
       "2023-10-05 00:00:00-04:00  5.328  5.330  5.323  5.330       0        0.0   \n",
       "\n",
       "                           Stock Splits  \n",
       "Date                                     \n",
       "2023-09-05 00:00:00-04:00           0.0  \n",
       "2023-09-06 00:00:00-04:00           0.0  \n",
       "2023-09-07 00:00:00-04:00           0.0  \n",
       "2023-09-08 00:00:00-04:00           0.0  \n",
       "2023-09-11 00:00:00-04:00           0.0  \n",
       "2023-09-12 00:00:00-04:00           0.0  \n",
       "2023-09-13 00:00:00-04:00           0.0  \n",
       "2023-09-14 00:00:00-04:00           0.0  \n",
       "2023-09-15 00:00:00-04:00           0.0  \n",
       "2023-09-18 00:00:00-04:00           0.0  \n",
       "2023-09-19 00:00:00-04:00           0.0  \n",
       "2023-09-20 00:00:00-04:00           0.0  \n",
       "2023-09-21 00:00:00-04:00           0.0  \n",
       "2023-09-22 00:00:00-04:00           0.0  \n",
       "2023-09-25 00:00:00-04:00           0.0  \n",
       "2023-09-26 00:00:00-04:00           0.0  \n",
       "2023-09-27 00:00:00-04:00           0.0  \n",
       "2023-09-28 00:00:00-04:00           0.0  \n",
       "2023-09-29 00:00:00-04:00           0.0  \n",
       "2023-10-02 00:00:00-04:00           0.0  \n",
       "2023-10-03 00:00:00-04:00           0.0  \n",
       "2023-10-04 00:00:00-04:00           0.0  \n",
       "2023-10-05 00:00:00-04:00           0.0  "
      ]
     },
     "execution_count": 66,
     "metadata": {},
     "output_type": "execute_result"
    }
   ],
   "source": [
    "us3m_bond.history(period=\"1mo\")"
   ]
  },
  {
   "cell_type": "code",
   "execution_count": 36,
   "metadata": {},
   "outputs": [],
   "source": [
    "pxlast = df.Close.iloc[-1]"
   ]
  },
  {
   "cell_type": "code",
   "execution_count": 45,
   "metadata": {},
   "outputs": [],
   "source": [
    "calls = spy.option_chain('2025-12-19').calls\n",
    "puts = spy.option_chain('2025-12-19').puts"
   ]
  },
  {
   "cell_type": "code",
   "execution_count": null,
   "metadata": {},
   "outputs": [],
   "source": []
  },
  {
   "cell_type": "code",
   "execution_count": 49,
   "metadata": {},
   "outputs": [],
   "source": [
    "calls['moneyness'] = calls['strike']/pxlast\n",
    "calls = calls.set_index('moneyness')\n",
    "\n",
    "puts['moneyness'] = puts['strike']/pxlast\n",
    "puts = puts.set_index('moneyness')"
   ]
  },
  {
   "cell_type": "code",
   "execution_count": 50,
   "metadata": {},
   "outputs": [],
   "source": [
    "otmcalls_iv = calls[calls.index>1]['impliedVolatility']\n",
    "otmputs_iv = puts[puts.index<=1]['impliedVolatility']"
   ]
  },
  {
   "cell_type": "code",
   "execution_count": 54,
   "metadata": {},
   "outputs": [],
   "source": [
    "iv_curve = pd.concat([otmputs_iv,otmcalls_iv])"
   ]
  },
  {
   "cell_type": "code",
   "execution_count": 57,
   "metadata": {},
   "outputs": [
    {
     "data": {
      "text/plain": [
       "moneyness\n",
       "0.800641    0.031260\n",
       "0.812415    0.031260\n",
       "0.824189    0.031260\n",
       "0.835963    0.031260\n",
       "0.847737    0.031260\n",
       "0.859511    0.015635\n",
       "0.871285    0.015635\n",
       "0.883059    0.015635\n",
       "0.894834    0.015635\n",
       "0.906608    0.015635\n",
       "0.918382    0.015635\n",
       "0.930156    0.007822\n",
       "0.941930    0.007822\n",
       "0.953704    0.007822\n",
       "0.965478    0.003916\n",
       "0.977252    0.003916\n",
       "0.989027    0.001963\n",
       "1.000801    0.000132\n",
       "1.012575    0.001963\n",
       "1.024349    0.003916\n",
       "1.036123    0.003916\n",
       "1.047897    0.007822\n",
       "1.059671    0.007822\n",
       "1.071445    0.007822\n",
       "1.083220    0.015635\n",
       "1.094994    0.015635\n",
       "1.106768    0.015635\n",
       "1.118542    0.015635\n",
       "1.130316    0.015635\n",
       "1.142090    0.015635\n",
       "1.153864    0.015635\n",
       "1.165638    0.015635\n",
       "1.177413    0.015635\n",
       "1.189187    0.031260\n",
       "Name: impliedVolatility, dtype: float64"
      ]
     },
     "execution_count": 57,
     "metadata": {},
     "output_type": "execute_result"
    }
   ],
   "source": [
    "iv_curve[0.8:1.2]"
   ]
  },
  {
   "cell_type": "code",
   "execution_count": null,
   "metadata": {},
   "outputs": [],
   "source": []
  }
 ],
 "metadata": {
  "kernelspec": {
   "display_name": "OneDrive",
   "language": "python",
   "name": "python3"
  },
  "language_info": {
   "codemirror_mode": {
    "name": "ipython",
    "version": 3
   },
   "file_extension": ".py",
   "mimetype": "text/x-python",
   "name": "python",
   "nbconvert_exporter": "python",
   "pygments_lexer": "ipython3",
   "version": "3.11.5"
  }
 },
 "nbformat": 4,
 "nbformat_minor": 2
}
